{
 "cells": [
  {
   "cell_type": "markdown",
   "metadata": {
    "nbgrader": {
     "grade": false,
     "grade_id": "q1_prompt",
     "locked": true,
     "schema_version": 1,
     "solution": false
    }
   },
   "source": [
    "# Question 1\n",
    "\n",
    "In this question, we're looking at some of the basic operations of native Python data structures and iterations."
   ]
  },
  {
   "cell_type": "markdown",
   "metadata": {
    "collapsed": true,
    "nbgrader": {
     "grade": false,
     "grade_id": "q1a_prompt",
     "locked": true,
     "schema_version": 1,
     "solution": false
    }
   },
   "source": [
    "### Part A\n",
    "\n",
    "In this part, you'll be given three lists: X coordinates, Y coordinates, and Z coordinates. Therefore, the first data point in this 3D space is `(X[0], Y[0], Z[0])`; the second one is `(X[1], Y[1], Z[1])`, and so on. You will need to use these coordinates and compute the *magnitudes* of the vectors they form.\n",
    "\n",
    "Recall that a 2D, 3D or any-D point in space can also be represented as a vector, and vectors have *lengths*, or magnitudes. This length can be computed using the Euclidean distance function:\n",
    "\n",
    "$$\n",
    "d = \\sqrt{x^2 + y^2 + z^2}\n",
    "$$\n",
    "\n",
    "Recall that you can compute exponents in Python using the `**` operator.\n",
    "\n",
    "Append these magnitudes to the list `magnitudes`.\n",
    "\n",
    "**No imports allowed!**"
   ]
  },
  {
   "cell_type": "code",
   "execution_count": 140,
   "metadata": {
    "nbgrader": {
     "grade": false,
     "grade_id": "q1a",
     "locked": false,
     "schema_version": 1,
     "solution": true
    }
   },
   "outputs": [],
   "source": [
    "def compute_3dmagnitudes(X, Y, Z):\n",
    "    magnitudes = []\n",
    "    \n",
    "    ### BEGIN SOLUTION\n",
    "    d = {(X**2) + (Y**2) + (Z**2)}**1/2\n",
    "    ### END SOLUTION\n",
    "    \n",
    "    return (X**2) + (Y**2) + (Z**2)**1/2"
   ]
  },
  {
   "cell_type": "code",
   "execution_count": 141,
   "metadata": {
    "nbgrader": {
     "grade": true,
     "grade_id": "q1a_test1",
     "locked": true,
     "points": 10,
     "schema_version": 1,
     "solution": false
    }
   },
   "outputs": [
    {
     "ename": "TypeError",
     "evalue": "unsupported operand type(s) for ** or pow(): 'list' and 'int'",
     "output_type": "error",
     "traceback": [
      "\u001b[0;31m---------------------------------------------------------------------------\u001b[0m",
      "\u001b[0;31mTypeError\u001b[0m                                 Traceback (most recent call last)",
      "Input \u001b[0;32mIn [141]\u001b[0m, in \u001b[0;36m<module>\u001b[0;34m\u001b[0m\n\u001b[1;32m      5\u001b[0m z1 \u001b[38;5;241m=\u001b[39m [\u001b[38;5;241m7\u001b[39m, \u001b[38;5;241m8\u001b[39m, \u001b[38;5;241m9\u001b[39m]\n\u001b[1;32m      6\u001b[0m a1 \u001b[38;5;241m=\u001b[39m [\u001b[38;5;241m8.12403840463596\u001b[39m, \u001b[38;5;241m9.643650760992955\u001b[39m, \u001b[38;5;241m11.224972160321824\u001b[39m]\n\u001b[0;32m----> 7\u001b[0m t\u001b[38;5;241m.\u001b[39massert_allclose(\u001b[43mcompute_3dmagnitudes\u001b[49m\u001b[43m(\u001b[49m\u001b[43mx1\u001b[49m\u001b[43m,\u001b[49m\u001b[43m \u001b[49m\u001b[43my1\u001b[49m\u001b[43m,\u001b[49m\u001b[43m \u001b[49m\u001b[43mz1\u001b[49m\u001b[43m)\u001b[49m, a1)\n",
      "Input \u001b[0;32mIn [140]\u001b[0m, in \u001b[0;36mcompute_3dmagnitudes\u001b[0;34m(X, Y, Z)\u001b[0m\n\u001b[1;32m      2\u001b[0m magnitudes \u001b[38;5;241m=\u001b[39m []\n\u001b[1;32m      4\u001b[0m \u001b[38;5;66;03m### BEGIN SOLUTION\u001b[39;00m\n\u001b[0;32m----> 5\u001b[0m d \u001b[38;5;241m=\u001b[39m {(\u001b[43mX\u001b[49m\u001b[38;5;241;43m*\u001b[39;49m\u001b[38;5;241;43m*\u001b[39;49m\u001b[38;5;241;43m2\u001b[39;49m) \u001b[38;5;241m+\u001b[39m (Y\u001b[38;5;241m*\u001b[39m\u001b[38;5;241m*\u001b[39m\u001b[38;5;241m2\u001b[39m) \u001b[38;5;241m+\u001b[39m (Z\u001b[38;5;241m*\u001b[39m\u001b[38;5;241m*\u001b[39m\u001b[38;5;241m2\u001b[39m)}\u001b[38;5;241m*\u001b[39m\u001b[38;5;241m*\u001b[39m\u001b[38;5;241m1\u001b[39m\u001b[38;5;241m/\u001b[39m\u001b[38;5;241m2\u001b[39m\n\u001b[1;32m      6\u001b[0m \u001b[38;5;66;03m### END SOLUTION\u001b[39;00m\n\u001b[1;32m      8\u001b[0m \u001b[38;5;28;01mreturn\u001b[39;00m (X\u001b[38;5;241m*\u001b[39m\u001b[38;5;241m*\u001b[39m\u001b[38;5;241m2\u001b[39m) \u001b[38;5;241m+\u001b[39m (Y\u001b[38;5;241m*\u001b[39m\u001b[38;5;241m*\u001b[39m\u001b[38;5;241m2\u001b[39m) \u001b[38;5;241m+\u001b[39m (Z\u001b[38;5;241m*\u001b[39m\u001b[38;5;241m*\u001b[39m\u001b[38;5;241m2\u001b[39m)\u001b[38;5;241m*\u001b[39m\u001b[38;5;241m*\u001b[39m\u001b[38;5;241m1\u001b[39m\u001b[38;5;241m/\u001b[39m\u001b[38;5;241m2\u001b[39m\n",
      "\u001b[0;31mTypeError\u001b[0m: unsupported operand type(s) for ** or pow(): 'list' and 'int'"
     ]
    }
   ],
   "source": [
    "import numpy.testing as t\n",
    "\n",
    "x1 = [1, 2, 3]\n",
    "y1 = [4, 5, 6]\n",
    "z1 = [7, 8, 9]\n",
    "a1 = [8.12403840463596, 9.643650760992955, 11.224972160321824]\n",
    "t.assert_allclose(compute_3dmagnitudes(x1, y1, z1), a1)"
   ]
  },
  {
   "cell_type": "code",
   "execution_count": 142,
   "metadata": {
    "nbgrader": {
     "grade": true,
     "grade_id": "q1a_test2",
     "locked": true,
     "points": 10,
     "schema_version": 1,
     "solution": false
    }
   },
   "outputs": [
    {
     "ename": "TypeError",
     "evalue": "unsupported operand type(s) for ** or pow(): 'list' and 'int'",
     "output_type": "error",
     "traceback": [
      "\u001b[0;31m---------------------------------------------------------------------------\u001b[0m",
      "\u001b[0;31mTypeError\u001b[0m                                 Traceback (most recent call last)",
      "Input \u001b[0;32mIn [142]\u001b[0m, in \u001b[0;36m<module>\u001b[0;34m\u001b[0m\n\u001b[1;32m      3\u001b[0m z2 \u001b[38;5;241m=\u001b[39m [ \u001b[38;5;241m12.72332579\u001b[39m,  \u001b[38;5;241m22.04915914\u001b[39m,  \u001b[38;5;241m48.91187418\u001b[39m,  \u001b[38;5;241m24.43381236\u001b[39m, \u001b[38;5;241m63.35006599\u001b[39m,  \u001b[38;5;241m97.43294649\u001b[39m,  \u001b[38;5;241m42.61849556\u001b[39m,  \u001b[38;5;241m39.79723282\u001b[39m, \u001b[38;5;241m44.2374771\u001b[39m ,  \u001b[38;5;241m16.67458157\u001b[39m]\n\u001b[1;32m      4\u001b[0m a2 \u001b[38;5;241m=\u001b[39m [\u001b[38;5;241m104.34404939309736\u001b[39m,\u001b[38;5;241m89.92816104193963\u001b[39m,\u001b[38;5;241m64.10958621524445\u001b[39m,\u001b[38;5;241m112.83798656043598\u001b[39m,\u001b[38;5;241m67.32732595675537\u001b[39m,\u001b[38;5;241m156.61283032897592\u001b[39m,\u001b[38;5;241m110.65854384603286\u001b[39m,\u001b[38;5;241m58.06089465866948\u001b[39m,\u001b[38;5;241m102.94762304312597\u001b[39m,\u001b[38;5;241m134.91020597468528\u001b[39m]\n\u001b[0;32m----> 5\u001b[0m t\u001b[38;5;241m.\u001b[39massert_allclose(\u001b[43mcompute_3dmagnitudes\u001b[49m\u001b[43m(\u001b[49m\u001b[43mx2\u001b[49m\u001b[43m,\u001b[49m\u001b[43m \u001b[49m\u001b[43my2\u001b[49m\u001b[43m,\u001b[49m\u001b[43m \u001b[49m\u001b[43mz2\u001b[49m\u001b[43m)\u001b[49m, a2)\n",
      "Input \u001b[0;32mIn [140]\u001b[0m, in \u001b[0;36mcompute_3dmagnitudes\u001b[0;34m(X, Y, Z)\u001b[0m\n\u001b[1;32m      2\u001b[0m magnitudes \u001b[38;5;241m=\u001b[39m []\n\u001b[1;32m      4\u001b[0m \u001b[38;5;66;03m### BEGIN SOLUTION\u001b[39;00m\n\u001b[0;32m----> 5\u001b[0m d \u001b[38;5;241m=\u001b[39m {(\u001b[43mX\u001b[49m\u001b[38;5;241;43m*\u001b[39;49m\u001b[38;5;241;43m*\u001b[39;49m\u001b[38;5;241;43m2\u001b[39;49m) \u001b[38;5;241m+\u001b[39m (Y\u001b[38;5;241m*\u001b[39m\u001b[38;5;241m*\u001b[39m\u001b[38;5;241m2\u001b[39m) \u001b[38;5;241m+\u001b[39m (Z\u001b[38;5;241m*\u001b[39m\u001b[38;5;241m*\u001b[39m\u001b[38;5;241m2\u001b[39m)}\u001b[38;5;241m*\u001b[39m\u001b[38;5;241m*\u001b[39m\u001b[38;5;241m1\u001b[39m\u001b[38;5;241m/\u001b[39m\u001b[38;5;241m2\u001b[39m\n\u001b[1;32m      6\u001b[0m \u001b[38;5;66;03m### END SOLUTION\u001b[39;00m\n\u001b[1;32m      8\u001b[0m \u001b[38;5;28;01mreturn\u001b[39;00m (X\u001b[38;5;241m*\u001b[39m\u001b[38;5;241m*\u001b[39m\u001b[38;5;241m2\u001b[39m) \u001b[38;5;241m+\u001b[39m (Y\u001b[38;5;241m*\u001b[39m\u001b[38;5;241m*\u001b[39m\u001b[38;5;241m2\u001b[39m) \u001b[38;5;241m+\u001b[39m (Z\u001b[38;5;241m*\u001b[39m\u001b[38;5;241m*\u001b[39m\u001b[38;5;241m2\u001b[39m)\u001b[38;5;241m*\u001b[39m\u001b[38;5;241m*\u001b[39m\u001b[38;5;241m1\u001b[39m\u001b[38;5;241m/\u001b[39m\u001b[38;5;241m2\u001b[39m\n",
      "\u001b[0;31mTypeError\u001b[0m: unsupported operand type(s) for ** or pow(): 'list' and 'int'"
     ]
    }
   ],
   "source": [
    "x2 = [ 30.48325629,  43.69168085,   1.77825571,  79.51618164, 18.97152147,  71.22477376,  98.29697101,  41.97578185, 10.61862458,  93.50326655]\n",
    "y2 = [ 98.97761722,  75.44498495,  41.40658662,  76.24025762, 12.64196712,  99.80696952,  27.68903488,   5.02806986, 92.34989725,  95.81159194]\n",
    "z2 = [ 12.72332579,  22.04915914,  48.91187418,  24.43381236, 63.35006599,  97.43294649,  42.61849556,  39.79723282, 44.2374771 ,  16.67458157]\n",
    "a2 = [104.34404939309736,89.92816104193963,64.10958621524445,112.83798656043598,67.32732595675537,156.61283032897592,110.65854384603286,58.06089465866948,102.94762304312597,134.91020597468528]\n",
    "t.assert_allclose(compute_3dmagnitudes(x2, y2, z2), a2)"
   ]
  },
  {
   "cell_type": "markdown",
   "metadata": {
    "nbgrader": {
     "grade": false,
     "grade_id": "q1b_prompt",
     "locked": true,
     "schema_version": 1,
     "solution": false
    }
   },
   "source": [
    "### Part B\n",
    "\n",
    "In this question, you're given two lists: keys and values. Write a loop that uses the `zip` function in order to create a dictionary which contains the specific keys and values.\n",
    "\n",
    "For example, the function `lists_to_dict( [\"one\", \"two\", \"three\"], [1, 2, 3] )` should return a dictionary that looks like:\n",
    "\n",
    "`{\"one\": 1, \"two\": 2, \"three\": 3}`\n",
    "\n",
    "It doesn't matter if, when printed, the key/values are in a different order, so long as the correct keys are paired with the correct values.\n",
    "\n",
    "**Sorry, using `dict()` is not allowed.** It's a great function that would answer this question in one line, but you can't use it here."
   ]
  },
  {
   "cell_type": "code",
   "execution_count": 143,
   "metadata": {
    "nbgrader": {
     "grade": false,
     "grade_id": "q1b",
     "locked": false,
     "schema_version": 1,
     "solution": true
    }
   },
   "outputs": [],
   "source": [
    "def lists_to_dict(keys, values):\n",
    "    result = {}\n",
    "    k1=[\"1\", \"2\", \"3\"]\n",
    "    k2 = [\"wat1\", \"wat2\", \"wat3\", \"wat4\", \"wat5\"]\n",
    "    v1 = [\"one\", \"two\", \"three\"]\n",
    "    v2 = [1, 2, 3, 4, 5]\n",
    "    ### BEGIN SOLUTION\n",
    "    for key,value in zip(keys,values):\n",
    "        result[key]=value\n",
    "    ### END SOLUTION\n",
    "    return result"
   ]
  },
  {
   "cell_type": "code",
   "execution_count": 144,
   "metadata": {
    "nbgrader": {
     "grade": true,
     "grade_id": "q1b_test1",
     "locked": true,
     "points": 10,
     "schema_version": 1,
     "solution": false
    }
   },
   "outputs": [
    {
     "name": "stdout",
     "output_type": "stream",
     "text": [
      "{('2', 'two'), ('3', 'three'), ('1', 'one')}\n"
     ]
    }
   ],
   "source": [
    "k1 = [\"1\", \"2\", \"3\"]\n",
    "v1 = [\"one\", \"two\", \"three\"]\n",
    "a1 = set({(k1[0], v1[0]), (k1[1], v1[1]), (k1[2], v1[2])})\n",
    "print(a1)"
   ]
  },
  {
   "cell_type": "code",
   "execution_count": 145,
   "metadata": {
    "nbgrader": {
     "grade": true,
     "grade_id": "q1b_test2",
     "locked": true,
     "points": 10,
     "schema_version": 1,
     "solution": false
    }
   },
   "outputs": [
    {
     "name": "stdout",
     "output_type": "stream",
     "text": [
      "{('wat1', 1), ('wat4', 4), ('wat5', 5), ('wat2', 2), ('wat3', 3)}\n"
     ]
    }
   ],
   "source": [
    "k2 = [\"wat1\", \"wat2\", \"wat3\", \"wat4\", \"wat5\"]\n",
    "v2 = [1, 2, 3, 4, 5]\n",
    "a2 = set({(k2[0], v2[0]), (k2[1], v2[1]), (k2[2], v2[2]), (k2[3], v2[3]), (k2[4], v2[4])})\n",
    "print(a2)"
   ]
  }
 ],
 "metadata": {
  "anaconda-cloud": {},
  "celltoolbar": "Create Assignment",
  "kernelspec": {
   "display_name": "Python 3 (ipykernel)",
   "language": "python",
   "name": "python3"
  },
  "language_info": {
   "codemirror_mode": {
    "name": "ipython",
    "version": 3
   },
   "file_extension": ".py",
   "mimetype": "text/x-python",
   "name": "python",
   "nbconvert_exporter": "python",
   "pygments_lexer": "ipython3",
   "version": "3.8.3"
  }
 },
 "nbformat": 4,
 "nbformat_minor": 1
}
