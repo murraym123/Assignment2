{
 "cells": [
  {
   "cell_type": "markdown",
   "metadata": {
    "collapsed": true,
    "nbgrader": {
     "grade": false,
     "grade_id": "a2_intro",
     "locked": true,
     "schema_version": 1,
     "solution": false
    }
   },
   "source": [
    "## Assignment 2\n",
    "CSCI 1360: Foundations for Informatics and Analytics\n",
    "\n",
    "## Important Dates\n",
    "\n",
    " - Released: 2022-02-1\n",
    " - Deadline: 2020-02-08 at 11:59:59pm [EDT]\n",
    " \n",
    "## Grading Breakdown\n",
    "\n",
    " - Q1: 40pts\n",
    " - Q2: 30pts\n",
    " - Q3: 30pts\n",
    " - Bonus: 40pts\n",
    "Total: 100pts\n",
    "\n",
    " - BONUS, Part A: 20pts\n",
    " - BONUS, Part B: 20pts\n",
    "\n",
    "## Overview\n",
    "\n",
    "This assignment will familiarize you with the built-in Python data structures, looping, conditionals, and exceptions.\n"
   ]
  }
 ],
 "metadata": {
  "anaconda-cloud": {},
  "celltoolbar": "Create Assignment",
  "kernelspec": {
   "display_name": "Python 3",
   "language": "python",
   "name": "python3"
  },
  "language_info": {
   "codemirror_mode": {
    "name": "ipython",
    "version": 3
   },
   "file_extension": ".py",
   "mimetype": "text/x-python",
   "name": "python",
   "nbconvert_exporter": "python",
   "pygments_lexer": "ipython3",
   "version": "3.7.4"
  }
 },
 "nbformat": 4,
 "nbformat_minor": 1
}
