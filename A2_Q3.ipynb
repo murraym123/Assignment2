{
 "cells": [
  {
   "cell_type": "markdown",
   "metadata": {
    "nbgrader": {
     "grade": false,
     "grade_id": "q3_prompt",
     "locked": true,
     "schema_version": 1,
     "solution": false
    }
   },
   "source": [
    "# Question 3\n",
    "\n",
    "In this question, you'll be doing some error handling using `try/except` statements."
   ]
  },
  {
   "cell_type": "markdown",
   "metadata": {
    "nbgrader": {
     "grade": false,
     "grade_id": "q3a_prompt",
     "locked": true,
     "schema_version": 1,
     "solution": false
    }
   },
   "source": [
    "### Part A\n",
    "\n",
    "In this question, you'll fill out the code to perform safe division. This means that, in the case of a division-by-zero, you catch the error before it crashes the program, and instead return 0.\n",
    "\n",
    "`a` and `b` are variables that store the divisor and dividend, respectively. **You CANNOT use conditionals**; instead, you need to use a `try/except` block to gracefully catch any errors resulting from a division by zero.\n",
    "\n",
    "Assign the final value to the variable `quotient`.\n",
    "\n",
    "**Hint**: the error you'll want to catch is `ZeroDivisionError`.\n",
    "\n",
    "**No imports allowed!**"
   ]
  },
  {
   "cell_type": "code",
   "execution_count": 27,
   "metadata": {
    "nbgrader": {
     "grade": false,
     "grade_id": "q3a",
     "locked": false,
     "schema_version": 1,
     "solution": true
    }
   },
   "outputs": [],
   "source": [
    "def safe_divide(a, b):\n",
    "    quotient = 0\n",
    "\n",
    "    ### BEGIN SOLUTION\n",
    "    try:\n",
    "        quotient = a / b\n",
    "    except ZeroDivisionError:\n",
    "        print(\"0\")\n",
    "    ### END SOLUTION\n",
    "    \n",
    "    return quotient"
   ]
  },
  {
   "cell_type": "code",
   "execution_count": 28,
   "metadata": {
    "nbgrader": {
     "grade": true,
     "grade_id": "q3a_test1",
     "locked": true,
     "points": 5,
     "schema_version": 1,
     "solution": false
    }
   },
   "outputs": [],
   "source": [
    "a1 = 10\n",
    "b1 = 5\n",
    "q1 = 2.0\n",
    "assert q1 == safe_divide(a1, b1)"
   ]
  },
  {
   "cell_type": "code",
   "execution_count": 29,
   "metadata": {
    "nbgrader": {
     "grade": true,
     "grade_id": "q3a_test2",
     "locked": true,
     "points": 10,
     "schema_version": 1,
     "solution": false
    }
   },
   "outputs": [
    {
     "name": "stdout",
     "output_type": "stream",
     "text": [
      "0\n"
     ]
    }
   ],
   "source": [
    "a2 = 10\n",
    "b2 = 0\n",
    "q2 = 0.0\n",
    "assert q2 == safe_divide(a2, b2)"
   ]
  },
  {
   "cell_type": "markdown",
   "metadata": {
    "nbgrader": {
     "grade": false,
     "grade_id": "q3b_prompt",
     "locked": true,
     "schema_version": 1,
     "solution": false
    }
   },
   "source": [
    "### Part B\n",
    "\n",
    "In this question, you need to write code that calls the `magic()` function, and returns whatever value `magic` hands back. **Be warned!** This strange `magic` function is prone to crashing and throwing errors, so you'll need to use sufficient `try/except` wizardry to make sure it doesn't bring your program down, too!\n",
    "\n",
    "In the code below, add a `try/except` block where you call `magic()` and assign it to the variable `retval`. If it doesn't throw an error, just return `retval`. If it *does* throw an error, catch it gracefully, and then assign `-1` to `retval`.\n",
    "\n",
    "**No imports allowed!**"
   ]
  },
  {
   "cell_type": "code",
   "execution_count": 38,
   "metadata": {
    "nbgrader": {
     "grade": false,
     "grade_id": "q3b",
     "locked": false,
     "schema_version": 1,
     "solution": true
    }
   },
   "outputs": [],
   "source": [
    "def do_you_believe_in_magic():\n",
    "    retval = 0\n",
    "    \n",
    "    ### BEGIN SOLUTION\n",
    "    try:\n",
    "        retval \n",
    "    except ValueError:\n",
    "        print(\"-1\")\n",
    "    ### END SOLUTION\n",
    "    \n",
    "    return retval"
   ]
  },
  {
   "cell_type": "code",
   "execution_count": 39,
   "metadata": {
    "nbgrader": {
     "grade": true,
     "grade_id": "q3b_test1",
     "locked": true,
     "points": 5,
     "schema_version": 1,
     "solution": false
    }
   },
   "outputs": [
    {
     "ename": "AssertionError",
     "evalue": "",
     "output_type": "error",
     "traceback": [
      "\u001b[0;31m---------------------------------------------------------------------------\u001b[0m",
      "\u001b[0;31mAssertionError\u001b[0m                            Traceback (most recent call last)",
      "Input \u001b[0;32mIn [39]\u001b[0m, in \u001b[0;36m<module>\u001b[0;34m\u001b[0m\n\u001b[1;32m      9\u001b[0m         \u001b[38;5;28;01mraise\u001b[39;00m \u001b[38;5;167;01mValueError\u001b[39;00m(\u001b[38;5;124m\"\u001b[39m\u001b[38;5;124mSomething bad happened!\u001b[39m\u001b[38;5;124m\"\u001b[39m)\n\u001b[1;32m     11\u001b[0m i1 \u001b[38;5;241m=\u001b[39m do_you_believe_in_magic()\n\u001b[0;32m---> 12\u001b[0m \u001b[38;5;28;01massert\u001b[39;00m i1 \u001b[38;5;241m==\u001b[39m \u001b[38;5;241m14\u001b[39m\n",
      "\u001b[0;31mAssertionError\u001b[0m: "
     ]
    }
   ],
   "source": [
    "import numpy as np\n",
    "np.random.seed(91375)\n",
    "\n",
    "def magic():\n",
    "    i = np.random.randint(100)\n",
    "    if i > 50:\n",
    "        return i >> 2\n",
    "    else:\n",
    "        raise ValueError(\"Something bad happened!\")\n",
    "        \n",
    "i1 = do_you_believe_in_magic()\n",
    "assert i1 == 14"
   ]
  },
  {
   "cell_type": "code",
   "execution_count": 41,
   "metadata": {
    "nbgrader": {
     "grade": true,
     "grade_id": "q3b_test2",
     "locked": true,
     "points": 10,
     "schema_version": 1,
     "solution": false
    }
   },
   "outputs": [
    {
     "ename": "AssertionError",
     "evalue": "",
     "output_type": "error",
     "traceback": [
      "\u001b[0;31m---------------------------------------------------------------------------\u001b[0m",
      "\u001b[0;31mAssertionError\u001b[0m                            Traceback (most recent call last)",
      "Input \u001b[0;32mIn [41]\u001b[0m, in \u001b[0;36m<module>\u001b[0;34m\u001b[0m\n\u001b[1;32m      1\u001b[0m np\u001b[38;5;241m.\u001b[39mrandom\u001b[38;5;241m.\u001b[39mseed(\u001b[38;5;241m3851\u001b[39m)\n\u001b[1;32m      3\u001b[0m i2 \u001b[38;5;241m=\u001b[39m do_you_believe_in_magic()\n\u001b[0;32m----> 4\u001b[0m \u001b[38;5;28;01massert\u001b[39;00m i2 \u001b[38;5;241m==\u001b[39m \u001b[38;5;241m-\u001b[39m\u001b[38;5;241m1\u001b[39m\n\u001b[1;32m      6\u001b[0m \u001b[38;5;66;03m### BEGIN HIDDEN TESTS\u001b[39;00m\n\u001b[1;32m      7\u001b[0m i3 \u001b[38;5;241m=\u001b[39m do_you_believe_in_magic()\n",
      "\u001b[0;31mAssertionError\u001b[0m: "
     ]
    }
   ],
   "source": [
    "np.random.seed(3851)\n",
    "\n",
    "i2 = do_you_believe_in_magic()\n",
    "assert i2 == -1\n",
    "\n",
    "### BEGIN HIDDEN TESTS\n",
    "i3 = do_you_believe_in_magic()\n",
    "assert i3 == 24\n",
    "### END HIDDEN TESTS"
   ]
  },
  {
   "cell_type": "code",
   "execution_count": null,
   "metadata": {},
   "outputs": [],
   "source": []
  }
 ],
 "metadata": {
  "anaconda-cloud": {},
  "celltoolbar": "Create Assignment",
  "kernelspec": {
   "display_name": "Python 3 (ipykernel)",
   "language": "python",
   "name": "python3"
  },
  "language_info": {
   "codemirror_mode": {
    "name": "ipython",
    "version": 3
   },
   "file_extension": ".py",
   "mimetype": "text/x-python",
   "name": "python",
   "nbconvert_exporter": "python",
   "pygments_lexer": "ipython3",
   "version": "3.8.3"
  }
 },
 "nbformat": 4,
 "nbformat_minor": 1
}
